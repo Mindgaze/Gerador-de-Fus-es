{
  "cells": [
    {
      "cell_type": "markdown",
      "metadata": {
        "id": "view-in-github",
        "colab_type": "text"
      },
      "source": [
        "<a href=\"https://colab.research.google.com/github/Mindgaze/Gerador-de-Fus-es/blob/main/Gerador%20de%20Imagens%20v1_.ipynb\" target=\"_parent\"><img src=\"https://colab.research.google.com/assets/colab-badge.svg\" alt=\"Open In Colab\"/></a>"
      ]
    },
    {
      "cell_type": "markdown",
      "source": [
        "Of course. Here is a complete Python script designed for Google Colab that sets up an AI image art generator. This code allows you to fuse two images based on a text prompt and generates a new image in a 9:16 aspect ratio with a full-body view.\n",
        "\n",
        "Just copy and paste each code block into a separate cell in your Google Colab notebook and run them in order.\n",
        "\n",
        "-----\n",
        "\n",
        "## 1\\. Setup Environment ⚙️\n",
        "\n",
        "This first step installs all the necessary libraries. It might take a few minutes to complete."
      ],
      "metadata": {
        "id": "4nm5HaVjKh9S"
      }
    },
    {
      "cell_type": "code",
      "source": [
        "# Install required Python libraries\n",
        "!pip install diffusers transformers accelerate invisible_watermark -q"
      ],
      "outputs": [
        {
          "output_type": "stream",
          "name": "stdout",
          "text": [
            "\u001b[2K   \u001b[90m━━━━━━━━━━━━━━━━━━━━━━━━━━━━━━━━━━━━━━━━\u001b[0m \u001b[32m1.6/1.6 MB\u001b[0m \u001b[31m15.8 MB/s\u001b[0m eta \u001b[36m0:00:00\u001b[0m\n",
            "\u001b[?25h"
          ]
        }
      ],
      "execution_count": 1,
      "metadata": {
        "id": "n5mfmZL1Kh9c",
        "colab": {
          "base_uri": "https://localhost:8080/"
        },
        "outputId": "517316fc-f933-4603-fdb5-65e330d084b9"
      }
    },
    {
      "cell_type": "markdown",
      "source": [
        "-----\n",
        "\n",
        "## 2\\. Load the AI Model 🧠\n",
        "\n",
        "Next, we'll load the pre-trained Stable Diffusion model. This model is powerful and can create high-quality images. This step downloads the model weights, so it can also take a moment."
      ],
      "metadata": {
        "id": "vM3VBlKxKh9m"
      }
    },
    {
      "cell_type": "code",
      "source": [
        "import torch\n",
        "from diffusers import StableDiffusionImg2ImgPipeline\n",
        "from PIL import Image\n",
        "import requests\n",
        "from io import BytesIO\n",
        "\n",
        "# Load the pre-trained image-to-image pipeline\n",
        "# Using a specific model known for good artistic results\n",
        "model_id = \"runwayml/stable-diffusion-v1-5\"\n",
        "pipe = StableDiffusionImg2ImgPipeline.from_pretrained(\n",
        "    model_id,\n",
        "    torch_dtype=torch.float16,\n",
        "    use_safetensors=True\n",
        ")\n",
        "\n",
        "\n",
        "\n",
        "print(\"✅ Model loaded successfully!\")"
      ],
      "outputs": [],
      "execution_count": null,
      "metadata": {
        "id": "qIcnYNIPKh9n"
      }
    },
    {
      "cell_type": "markdown",
      "source": [
        "-----\n",
        "\n",
        "## 3\\. Upload Your Images 🖼️\n",
        "\n",
        "Run this cell to upload the two images you want to fuse. An \"upload\" button will appear.\n",
        "\n",
        "  * **Image 1 (Style Image):** This image will provide the initial structure and composition for the new artwork.\n",
        "  * **Image 2 (Content Image):** While not directly used as a second input image in this pipeline, its concepts should be described in your prompt. The AI will fuse the *idea* of this image with the structure of the first one.\n",
        "\n",
        "<!-- end list -->"
      ],
      "metadata": {
        "id": "10RWf4CsKh9o"
      }
    },
    {
      "cell_type": "code",
      "source": [
        "from google.colab import files\n",
        "\n",
        "print(\"Please upload your first image (the base/style image)...\")\n",
        "uploaded_style = files.upload()\n",
        "\n",
        "if uploaded_style:\n",
        "    style_image_name = next(iter(uploaded_style))\n",
        "    print(f\"\\nUploaded '{style_image_name}' as the style image.\")\n",
        "else:\n",
        "    print(\"No style image was uploaded.\")"
      ],
      "outputs": [],
      "execution_count": null,
      "metadata": {
        "id": "_rx7t0JRKh9o"
      }
    },
    {
      "cell_type": "markdown",
      "source": [
        "-----\n",
        "\n",
        "## 4\\. Generate Your AI Art ✨\n",
        "\n",
        "This is the final step where the magic happens.\n",
        "\n",
        "1.  **Define your prompt:** Clearly describe the final image you want. Mention elements from both of your uploaded images and add \"Full Length Body Size View\" to ensure the framing is correct.\n",
        "2.  **Run the cell:** The AI will use your first image as a base and transform it according to your prompt, generating a new piece of art in the specified 9:16 aspect ratio.\n",
        "\n",
        "<!-- end list -->"
      ],
      "metadata": {
        "id": "BsshW3kjKh9p"
      }
    },
    {
      "cell_type": "code",
      "source": [
        "# --- Your Settings ---\n",
        "prompt = \"An witch queen\"\n",
        "\n",
        "# --- Image Generation ---\n",
        "import torch\n",
        "from PIL import Image\n",
        "from io import BytesIO\n",
        "if uploaded_style:\n",
        "    # Open the uploaded image\n",
        "    init_image = Image.open(BytesIO(uploaded_style[style_image_name])).convert(\"RGB\")\n",
        "\n",
        "    # Define the 9:16 aspect ratio dimensions\n",
        "    # These are standard resolutions for this ratio\n",
        "    width = 576\n",
        "    height = 1024\n",
        "\n",
        "    # Resize the initial image to match the target output dimensions\n",
        "    init_image = init_image.resize((width, height))\n",
        "\n",
        "    print(\"⏳ Generating your image... this may take a moment.\")\n",
        "\n",
        "    # Generate the image\n",
        "    # 'strength' controls how much the original image is changed (0.0-1.0)\n",
        "    # 'guidance_scale' controls how closely the prompt is followed (higher is stricter)\n",
        "    generator = torch.Generator().manual_seed(1024) # for reproducible results\n",
        "    image = pipe(\n",
        "        prompt=prompt,\n",
        "        image=init_image,\n",
        "        strength=0.75,\n",
        "        guidance_scale=7.5,\n",
        "        generator=generator\n",
        "    ).images[0]\n",
        "\n",
        "    print(\"\\n🎉 Generation complete! Here is your fused artwork:\")\n",
        "    display(image)\n",
        "\n",
        "else:\n",
        "    print(\"⚠️ Please upload a style image in the previous cell before running this one.\")"
      ],
      "outputs": [],
      "execution_count": null,
      "metadata": {
        "id": "XNf57YwZKh9q"
      }
    }
  ],
  "metadata": {
    "colab": {
      "provenance": [],
      "include_colab_link": true
    },
    "kernelspec": {
      "display_name": "Python 3",
      "name": "python3"
    }
  },
  "nbformat": 4,
  "nbformat_minor": 0
}